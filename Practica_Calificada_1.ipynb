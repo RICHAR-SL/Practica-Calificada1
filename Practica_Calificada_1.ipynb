{
  "nbformat": 4,
  "nbformat_minor": 0,
  "metadata": {
    "colab": {
      "provenance": [],
      "authorship_tag": "ABX9TyMh++0E9bMxUZHniLLWYqJV",
      "include_colab_link": true
    },
    "kernelspec": {
      "name": "python3",
      "display_name": "Python 3"
    },
    "language_info": {
      "name": "python"
    }
  },
  "cells": [
    {
      "cell_type": "markdown",
      "metadata": {
        "id": "view-in-github",
        "colab_type": "text"
      },
      "source": [
        "<a href=\"https://colab.research.google.com/github/RICHAR-SL/Practica-Calificada1/blob/main/Practica_Calificada_1.ipynb\" target=\"_parent\"><img src=\"https://colab.research.google.com/assets/colab-badge.svg\" alt=\"Open In Colab\"/></a>"
      ]
    },
    {
      "cell_type": "markdown",
      "source": [
        "***Ejercicio1***:"
      ],
      "metadata": {
        "id": "Z_lAWEAreWx4"
      }
    },
    {
      "cell_type": "code",
      "source": [
        "import numpy as np\n",
        "import pandas as pd"
      ],
      "metadata": {
        "id": "893v06KNetXA"
      },
      "execution_count": null,
      "outputs": []
    },
    {
      "cell_type": "code",
      "execution_count": null,
      "metadata": {
        "colab": {
          "base_uri": "https://localhost:8080/"
        },
        "collapsed": true,
        "id": "9ZA8iPj2dyDC",
        "outputId": "6f8227fa-d81d-413b-e9bd-c7e571da5f5c"
      },
      "outputs": [
        {
          "output_type": "stream",
          "name": "stdout",
          "text": [
            "[ 1  2  3  4  5  6  7  8  9 10 11 12 13 14 15 16 17 18 19 20]\n",
            "\n",
            "\n",
            "\n",
            "[[0.45919857 0.32611781 0.49421526]\n",
            " [0.5973781  0.30347436 0.56379368]\n",
            " [0.99339995 0.77882096 0.53306462]]\n",
            "\n",
            "\n",
            "\n",
            "\n",
            "\n",
            "\n",
            "[[0.76066453 0.66153617 0.45066153 0.01950015]\n",
            " [0.51860781 0.40802249 0.28989435 0.56975041]\n",
            " [0.76804241 0.29296425 0.98657576 0.31243409]\n",
            " [0.10292499 0.4102454  0.58068295 0.92634846]]\n",
            "\n",
            "\n",
            "Matriz redimencionado\n",
            "[[0.76066453 0.66153617 0.45066153 0.01950015 0.51860781 0.40802249\n",
            "  0.28989435 0.56975041]\n",
            " [0.76804241 0.29296425 0.98657576 0.31243409 0.10292499 0.4102454\n",
            "  0.58068295 0.92634846]]\n",
            "\n",
            "\n",
            "\n",
            "[0.         0.11111111 0.22222222 0.33333333 0.44444444 0.55555556\n",
            " 0.66666667 0.77777778 0.88888889 1.        ]\n",
            "Vertical\n",
            "[[ 1 23  4  5  6]\n",
            " [ 8  9  7 54  4]]\n",
            "\n",
            "\n",
            "\n",
            "Horizontal\n",
            "[ 1 23  4  5  6  8  9  7 54  4]\n"
          ]
        }
      ],
      "source": [
        "#Crea un vector de numeros enteros del 1 al 20\n",
        "vector1=np.arange(1,21)\n",
        "print(vector1)\n",
        "print('\\n\\n')\n",
        "#Crea una matriz de 3 x 3 con valores aleatorios entre 0 y 1\n",
        "matriz1=np.random.rand(3,3)\n",
        "print(matriz1)\n",
        "print('\\n\\n')\n",
        "#Redimenciona una matriz de 4x4 a una matriz de 2x8\n",
        "print('\\n\\n')\n",
        "matriz2=np.random.rand(4,4)\n",
        "print(matriz2)\n",
        "\n",
        "print('\\n')\n",
        "print('Matriz redimencionado')\n",
        "matriz_redimencionado=matriz2.reshape(2,8)\n",
        "print(matriz_redimencionado)\n",
        "\n",
        "#Crea un array de 10 numeros equidistantes entre 0 y 1\n",
        "print('\\n\\n')\n",
        "array_equidistante= np.linspace(0,1,10)\n",
        "print(array_equidistante)\n",
        "\n",
        "#Concatena don vectores verticales y horizontales\n",
        "vect1_1=([1,23,4,5,6])\n",
        "vect2_2=([8,9,7,54,4])\n",
        "concatenado_vertical=np.vstack((vect1_1,vect2_2))\n",
        "concatenado_horizontal=np.hstack((vect1_1,vect2_2))\n",
        "print(\"Vertical\")\n",
        "print(concatenado_vertical)\n",
        "print(\"\\n\\n\")\n",
        "print(\"Horizontal\")\n",
        "print(concatenado_horizontal)\n"
      ]
    },
    {
      "cell_type": "code",
      "source": [
        "\n",
        "vector1=np.array([1,2,3,4,5])\n",
        "vector2=np.array([6,7,8,9,10])\n",
        "#calcula la suma, resta, multiplicacion y division de dos vectores\n",
        "sumade=vector1+vector2\n",
        "restade=vector2-vector1\n",
        "multide=vector1*vector2\n",
        "divisionde=vector2/vector1\n",
        "print(\"suma\")\n",
        "print(sumade)\n",
        "print(\"resta\")\n",
        "print(restade)\n",
        "print(\"multiplicacion\")\n",
        "print(multide)\n",
        "print(\"division\")\n",
        "print(divisionde)\n",
        "#calcula la media, mediana y desviacion de un vector\n",
        "print(\"media de vector1\")\n",
        "media=np.mean(vector1)\n",
        "print(media)\n",
        "print(\"mediana de vector1\")\n",
        "mediana=np.median(vector1)\n",
        "print(mediana)\n",
        "print(\"desviacion de vector1\")\n",
        "desviacion=np.std(vector1)\n",
        "print(desviacion)\n",
        "\n",
        "#normaliza un vector dividiendo cada valor por el valor maximo\n",
        "\n",
        "vector_normal=vector2\n",
        "print(\"normaliza un vector dividiendo cada valor por el valor maximo\")\n",
        "vector_normal=vector_normal / np.max(vector2)\n",
        "print(vector_normal)\n",
        "#Encuentra el indice del valor maximo y minimo de un vector\n",
        "print(\"Encuentra el indice del valor maximo y minimo de un vector1\")\n",
        "\n",
        "vectormax=np.argmax(vector1)\n",
        "vectormin=np.argmin(vector1)\n",
        "print(\"maximo\",vectormax)\n",
        "print(\"minimo\", vectormin)\n",
        "\n",
        "\n",
        "#Realiza una multiplicacion matricial entre dos matrices de 3 x 3\n",
        "\n",
        "matrixz1=np.array([[1,2,2],[3,4,7],[5,6,9]])\n",
        "\n",
        "matrixz2=np.array([[11,12,1],[9,10,11],[7,8,7]])\n",
        "matriz_mutiplicacido=np.dot(matrixz1,matrixz2)\n",
        "print(matriz_mutiplicacido)"
      ],
      "metadata": {
        "colab": {
          "base_uri": "https://localhost:8080/"
        },
        "id": "nhUMx50clPfv",
        "outputId": "2b120bdc-2cbe-4f80-aab3-f58e403c14f2"
      },
      "execution_count": null,
      "outputs": [
        {
          "output_type": "stream",
          "name": "stdout",
          "text": [
            "suma\n",
            "[ 7  9 11 13 15]\n",
            "resta\n",
            "[5 5 5 5 5]\n",
            "multiplicacion\n",
            "[ 6 14 24 36 50]\n",
            "division\n",
            "[6.         3.5        2.66666667 2.25       2.        ]\n",
            "media de vector1\n",
            "3.0\n",
            "mediana de vector1\n",
            "3.0\n",
            "desviacion de vector1\n",
            "1.4142135623730951\n",
            "normaliza un vector dividiendo cada valor por el valor maximo\n",
            "[0.6 0.7 0.8 0.9 1. ]\n",
            "Encuentra el indice del valor maximo y minimo de un vector1\n",
            "maximo 4\n",
            "minimo 0\n",
            "[[ 43  48  37]\n",
            " [118 132  96]\n",
            " [172 192 134]]\n"
          ]
        }
      ]
    },
    {
      "cell_type": "code",
      "source": [
        "\n",
        "vectortotal=np.array([-5,-4,-3,-2,-1,0,1,2,3,4,5,6,7,8,9,10,30,60,80,90])\n",
        "\n",
        "print(\"Selecciona los elementos pares de un vector de números enteros\")\n",
        "\n",
        "pares = vectortotal[vectortotal % 2 == 0]\n",
        "print(\"Elementos pares:\", pares)\n",
        "\n",
        "print(\"\\nFiltra los valores mayores que 5 en un vector\")\n",
        "mayores_5 = vectortotal[vectortotal > 5]\n",
        "print(\"Valores mayores que 5:\", mayores_5)\n",
        "\n",
        "print(\"\\nFiltra los valores iguales a cero\")\n",
        "iguales_cero = vectortotal[vectortotal == 0]\n",
        "print(\"Valores iguales a 0:\", iguales_cero)\n",
        "\n",
        "print(\"\\nFiltra los valores negativos\")\n",
        "negativos = vectortotal[vectortotal < 0]\n",
        "print(\"Valores negativos:\", negativos)\n",
        "\n",
        "print(\"\\nAplica la media a los valores mayores de 50\")\n",
        "mayores_50 = vectortotal[vectortotal > 50]\n",
        "media_mayores_50 = np.mean(mayores_50)\n",
        "if mayores_50.size > 0 :\n",
        "  print(media_mayores_50)\n",
        "\n"
      ],
      "metadata": {
        "id": "QeDEc3C3lP3_",
        "colab": {
          "base_uri": "https://localhost:8080/"
        },
        "outputId": "12a59d87-8405-4802-acd4-970a2277d631"
      },
      "execution_count": 47,
      "outputs": [
        {
          "output_type": "stream",
          "name": "stdout",
          "text": [
            "Selecciona los elementos pares de un vector de números enteros\n",
            "Elementos pares: [-4 -2  0  2  4  6  8 10 30 60 80 90]\n",
            "\n",
            "Filtra los valores mayores que 5 en un vector\n",
            "Valores mayores que 5: [ 6  7  8  9 10 30 60 80 90]\n",
            "\n",
            "Filtra los valores iguales a cero\n",
            "Valores iguales a 0: [0]\n",
            "\n",
            "Filtra los valores negativos\n",
            "Valores negativos: [-5 -4 -3 -2 -1]\n",
            "\n",
            "Aplica la media a los valores mayores de 50\n",
            "76.66666666666667\n"
          ]
        }
      ]
    },
    {
      "cell_type": "markdown",
      "source": [
        "ejr4\n"
      ],
      "metadata": {
        "id": "4lo5cofivBKA"
      }
    },
    {
      "cell_type": "code",
      "source": [
        "vectortotal=np.array([-1,0,1,2,3,4,5,6,7,8])\n",
        "print(\"crea un vector de 10 elementos y reemplaza todos los valores mayores que 5 con 0\")\n",
        "\n",
        "\n",
        "print(\"Combina dos vectores booleano utilizando las operaciones and y or\")\n",
        "\n",
        "\n",
        "print(\"cuenta la cantidad de valores en un vector  que son multiples de 3\")\n",
        "\n",
        "\n",
        "print(\"encuentra los indices de los elementos no nulos en un vector (np.nonzero)\")\n",
        "\n",
        "\n",
        "print(\"comprueba si todos los elementos en un array son mayores que un valor especifico digitado por el usuario\")\n",
        "\n",
        "\n",
        "\n",
        "\n",
        "\n"
      ],
      "metadata": {
        "id": "aUoqkbUYlQFm"
      },
      "execution_count": null,
      "outputs": []
    }
  ]
}